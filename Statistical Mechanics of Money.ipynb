{
 "cells": [
  {
   "cell_type": "markdown",
   "id": "6ff436ac",
   "metadata": {},
   "source": [
    "# Stage 1. Simulation based on the Statistical Mechanics of Money"
   ]
  },
  {
   "cell_type": "code",
   "execution_count": null,
   "id": "3eb8d686",
   "metadata": {},
   "outputs": [],
   "source": [
    "%cd\n",
    "! pip install plotly==5.3.1"
   ]
  },
  {
   "cell_type": "code",
   "execution_count": 1,
   "id": "b9fa5604",
   "metadata": {},
   "outputs": [],
   "source": [
    "# Libraries\n",
    "import pandas as pd\n",
    "import numpy as np\n",
    "import matplotlib.pyplot as plt\n",
    "import matplotlib.animation as animation\n",
    "import plotly.express as px\n",
    "import seaborn as sns\n",
    "import random\n",
    "import math"
   ]
  },
  {
   "cell_type": "markdown",
   "id": "a7f05195",
   "metadata": {},
   "source": [
    "### Functions: Entropy and Objective Function"
   ]
  },
  {
   "cell_type": "code",
   "execution_count": 2,
   "id": "8c80f256",
   "metadata": {},
   "outputs": [],
   "source": [
    "def calcEntropy(df):\n",
    "    n = df['Money'].tolist()\n",
    "    c = df['Class'].count()\n",
    "    s1 = c*np.log(c)\n",
    "    s2 = 0\n",
    "    eClas = list(set(df['Class'].tolist())) #Unique values\n",
    "    for e in eClas:\n",
    "        aux = df.loc[df['Class'] == e]\n",
    "        nk = aux['Class'].count()\n",
    "        lnk = np.log(nk)\n",
    "        s2 += nk*lnk\n",
    "    \n",
    "    S = s1 - s2\n",
    "    return S\n",
    "\n",
    "def Ouno(df,a):\n",
    "    # a should be greater than 0 (a > 0)\n",
    "    # C = df['Class'].count() # Number of classes.\n",
    "    O = 0 # Performance of the system.\n",
    "    eClas = list(set(df['Class'].tolist())) #Unique values.\n",
    "    for e in eClas:\n",
    "        aux = df.loc[df['Class'] == e] # Get the all the class.\n",
    "        Mk = aux['Money'].mean()# Average money of each agent of the given class.\n",
    "        O += a*Mk # Function O1(M)\n",
    "    \n",
    "    return O\n",
    "        \n",
    "def Odos(df,a):\n",
    "    # a should be greater than 0 (a > 0)\n",
    "    # C = df['Class'].count() # Number of classes.\n",
    "    O = 0 # Performance of the system.\n",
    "    eClas = list(set(df['Class'].tolist())) #Unique values.\n",
    "    for e in eClas:\n",
    "        aux = df.loc[df['Class'] == e] # Get the all the class.\n",
    "        Mk = aux['Money'].mean()# Average money of each agent of the given class.\n",
    "        O += 1-(math.exp(-a*Mk)) # Function O1(M)\n",
    "    \n",
    "    return O"
   ]
  },
  {
   "cell_type": "markdown",
   "id": "f8de596f",
   "metadata": {},
   "source": [
    "### General Parameters"
   ]
  },
  {
   "cell_type": "code",
   "execution_count": 26,
   "id": "c1b0c200",
   "metadata": {},
   "outputs": [],
   "source": [
    "C = 1000 # Money classes.\n",
    "M = 50000 # Total amount of money given by sum(m_{i}).\n",
    "N = 500; # Agents.\n",
    "a = 1 # Parameter for Objective Function. Should be greater than 0 (a > 0)\n",
    "\n",
    "dfFinal = pd.DataFrame(columns=['Money','Class','Case']) # Empty df for animation.\n",
    "\n",
    "entropy = [] # Entropy.\n",
    "money = [] # Money.\n",
    "reservoir = [0] # Money to redistribute.\n",
    "moneyPartial = [] # Money partial.\n",
    "wellness = [] # Performance of the system"
   ]
  },
  {
   "cell_type": "code",
   "execution_count": 27,
   "id": "fbaa5039",
   "metadata": {},
   "outputs": [
    {
     "data": {
      "text/html": [
       "<div>\n",
       "<style scoped>\n",
       "    .dataframe tbody tr th:only-of-type {\n",
       "        vertical-align: middle;\n",
       "    }\n",
       "\n",
       "    .dataframe tbody tr th {\n",
       "        vertical-align: top;\n",
       "    }\n",
       "\n",
       "    .dataframe thead th {\n",
       "        text-align: right;\n",
       "    }\n",
       "</style>\n",
       "<table border=\"1\" class=\"dataframe\">\n",
       "  <thead>\n",
       "    <tr style=\"text-align: right;\">\n",
       "      <th></th>\n",
       "      <th>Money</th>\n",
       "      <th>Class</th>\n",
       "      <th>Case</th>\n",
       "    </tr>\n",
       "  </thead>\n",
       "  <tbody>\n",
       "  </tbody>\n",
       "</table>\n",
       "</div>"
      ],
      "text/plain": [
       "Empty DataFrame\n",
       "Columns: [Money, Class, Case]\n",
       "Index: []"
      ]
     },
     "execution_count": 27,
     "metadata": {},
     "output_type": "execute_result"
    }
   ],
   "source": [
    "dfFinal"
   ]
  },
  {
   "cell_type": "markdown",
   "id": "2792e3ef",
   "metadata": {},
   "source": [
    "### Initial distributions\n",
    "First, we started with the **Delta distribution** given by $\\delta(m_{l}-\\frac{M}{N})$"
   ]
  },
  {
   "cell_type": "code",
   "execution_count": 28,
   "id": "be141145",
   "metadata": {},
   "outputs": [
    {
     "name": "stdout",
     "output_type": "stream",
     "text": [
      "Cada uno esta comenzando con 100.0 pesos\n"
     ]
    }
   ],
   "source": [
    "Mi = M/N # Delta distribution - All agents have the same amount of money.\n",
    "Ma = np.ones(N) * Mi # Initial values of agents money.\n",
    "print(f'Cada uno esta comenzando con {Mi} pesos')"
   ]
  },
  {
   "cell_type": "markdown",
   "id": "ba9b228e",
   "metadata": {},
   "source": [
    "Also, we have the uniform distribution given by $f(m_{l}) = cte$"
   ]
  },
  {
   "cell_type": "code",
   "execution_count": 29,
   "id": "5398cc9c",
   "metadata": {},
   "outputs": [],
   "source": [
    "# code"
   ]
  },
  {
   "cell_type": "code",
   "execution_count": 30,
   "id": "75dd0750",
   "metadata": {},
   "outputs": [],
   "source": [
    "d = {\"Money\": Ma} # {\"Money\": Ma, \"Class\": Ci, \"variable\": data}.\n",
    "df = pd.DataFrame(d) # Create a dataframe to store each iteration."
   ]
  },
  {
   "cell_type": "code",
   "execution_count": 31,
   "id": "c43bac71",
   "metadata": {},
   "outputs": [
    {
     "data": {
      "text/plain": [
       "6237.5"
      ]
     },
     "execution_count": 31,
     "metadata": {},
     "output_type": "execute_result"
    }
   ],
   "source": [
    "# Create the classes based on M and C.\n",
    "scale = [M/(4*C)]*(int(C/2))\n",
    "for i in range(int(C/2)):\n",
    "    scale[i] = scale[i]*i\n",
    "#lab = [str(i) for i in scale]\n",
    "labe = list(np.linspace(scale[0],scale[-1],len(scale)))\n",
    "labe.pop()\n",
    "#print(labe)"
   ]
  },
  {
   "cell_type": "code",
   "execution_count": 32,
   "id": "3340db7a",
   "metadata": {},
   "outputs": [],
   "source": [
    "df['Class'] = pd.cut(x=df['Money'],bins=scale,labels=labe)\n",
    "df['Case'] = 0;\n",
    "dfFinal = pd.concat([dfFinal,df])"
   ]
  },
  {
   "cell_type": "code",
   "execution_count": 33,
   "id": "c22d3b41",
   "metadata": {},
   "outputs": [],
   "source": [
    "money.append(df['Money'].sum()) # Initial money\n",
    "entropy.append(calcEntropy(df)) # Initial entropy"
   ]
  },
  {
   "cell_type": "code",
   "execution_count": 34,
   "id": "6f13f40a",
   "metadata": {},
   "outputs": [],
   "source": [
    "#df.head(10)"
   ]
  },
  {
   "cell_type": "code",
   "execution_count": 35,
   "id": "e1ac4699",
   "metadata": {},
   "outputs": [
    {
     "data": {
      "image/png": "[encoded data removed]",
      "text/plain": [
       "<Figure size 432x288 with 1 Axes>"
      ]
     },
     "metadata": {
      "needs_background": "light"
     },
     "output_type": "display_data"
    }
   ],
   "source": [
    "plt.scatter(df.index,df.Money)\n",
    "plt.title('Initial Distribution: Delta')\n",
    "plt.xlabel('Agent')\n",
    "plt.ylabel('Amount of money')\n",
    "plt.show()"
   ]
  },
  {
   "cell_type": "code",
   "execution_count": 36,
   "id": "0ed14d1a",
   "metadata": {},
   "outputs": [
    {
     "data": {
      "text/plain": [
       "<AxesSubplot:xlabel='Money', ylabel='Count'>"
      ]
     },
     "execution_count": 36,
     "metadata": {},
     "output_type": "execute_result"
    },
    {
     "data": {
      "image/png": "[encoded data removed]",
      "text/plain": [
       "<Figure size 432x288 with 1 Axes>"
      ]
     },
     "metadata": {
      "needs_background": "light"
     },
     "output_type": "display_data"
    }
   ],
   "source": [
    "sns.histplot(data=df,x='Money',bins=C)"
   ]
  },
  {
   "cell_type": "code",
   "execution_count": 37,
   "id": "a3309bcc",
   "metadata": {},
   "outputs": [],
   "source": [
    "# S = N ln(N) - sum(n_{i}ln(n_{i}))\n",
    "# S = N ln(C)\n",
    "# M = (N*dm/2)(k+2)"
   ]
  },
  {
   "cell_type": "markdown",
   "id": "0c26f69a",
   "metadata": {},
   "source": [
    "## System Evolution"
   ]
  },
  {
   "cell_type": "markdown",
   "id": "dd195beb",
   "metadata": {},
   "source": [
    "### Using a fixed dM"
   ]
  },
  {
   "cell_type": "code",
   "execution_count": 15,
   "id": "c88b4658",
   "metadata": {},
   "outputs": [],
   "source": [
    "#dM = 3 # Parameter provided by Yakobenko. Should be always positive.\n",
    "       # Further considerations will be more complex\n",
    "\n",
    "t = 10000 # Given time to the system evolution"
   ]
  },
  {
   "cell_type": "code",
   "execution_count": 16,
   "id": "0db72d5c",
   "metadata": {},
   "outputs": [],
   "source": [
    "for i in range(t):  \n",
    "    v = np.random.uniform(0, 1) # Random fraction 0 < v < 1\n",
    "    s = np.random.choice([-1,1]) # Random variable either -1 or 1.\n",
    "    \n",
    "    p = random.sample(range(N),2) \n",
    "    \n",
    "    #mk = df.iat[p[i,0],0]\n",
    "    #ml = df.iat[p[i,1],0]\n",
    "    mk = df.iat[p[0],0]\n",
    "    ml = df.iat[p[1],0]\n",
    "    \n",
    "    \n",
    "    # Possible dM's\n",
    "    dM = v *(mk + ml)/2 # Exchange of random fraction v \n",
    "                       # of the average money of the pair.\n",
    "    # dM = v * M/N # Exchange of random fraction v of the average\n",
    "                   # of the system\n",
    "    if (ml - dM) > 0:\n",
    "        df.at[p[0],'Money'] = mk + dM\n",
    "        df.at[p[1],'Money'] = ml - dM\n",
    "    \n",
    "    df['Class'] = pd.cut(x=df['Money'],bins=scale,labels=labe)\n",
    "    df['Case'] = i+1\n",
    "    # dfFinal = pd.concat([dfFinal,df])\n",
    "    # wellness.append(Ouno(df,a)) # Wellnes with O1\n",
    "    wellness.append(Odos(df,a)) # wellnes with O2\n",
    "    money.append(df['Money'].sum())\n",
    "    entropy.append(calcEntropy(df))\n"
   ]
  },
  {
   "cell_type": "code",
   "execution_count": 17,
   "id": "05b38d1f",
   "metadata": {},
   "outputs": [],
   "source": [
    "#scale"
   ]
  },
  {
   "cell_type": "code",
   "execution_count": 18,
   "id": "61eebd80",
   "metadata": {},
   "outputs": [],
   "source": [
    "#px.scatter(dfFinal,x=dfFinal.index,y='Money',animation_frame='Case'\n",
    "           #,color='Case')"
   ]
  },
  {
   "cell_type": "markdown",
   "id": "fa1f527a",
   "metadata": {},
   "source": [
    "### Final distribution"
   ]
  },
  {
   "cell_type": "code",
   "execution_count": 19,
   "id": "638ef547",
   "metadata": {},
   "outputs": [
    {
     "data": {
      "text/html": [
       "<div>\n",
       "<style scoped>\n",
       "    .dataframe tbody tr th:only-of-type {\n",
       "        vertical-align: middle;\n",
       "    }\n",
       "\n",
       "    .dataframe tbody tr th {\n",
       "        vertical-align: top;\n",
       "    }\n",
       "\n",
       "    .dataframe thead th {\n",
       "        text-align: right;\n",
       "    }\n",
       "</style>\n",
       "<table border=\"1\" class=\"dataframe\">\n",
       "  <thead>\n",
       "    <tr style=\"text-align: right;\">\n",
       "      <th></th>\n",
       "      <th>Money</th>\n",
       "      <th>Class</th>\n",
       "      <th>Case</th>\n",
       "    </tr>\n",
       "  </thead>\n",
       "  <tbody>\n",
       "    <tr>\n",
       "      <th>110</th>\n",
       "      <td>185.872313</td>\n",
       "      <td>175.0</td>\n",
       "      <td>10000</td>\n",
       "    </tr>\n",
       "    <tr>\n",
       "      <th>241</th>\n",
       "      <td>140.419158</td>\n",
       "      <td>137.5</td>\n",
       "      <td>10000</td>\n",
       "    </tr>\n",
       "    <tr>\n",
       "      <th>427</th>\n",
       "      <td>185.149486</td>\n",
       "      <td>175.0</td>\n",
       "      <td>10000</td>\n",
       "    </tr>\n",
       "    <tr>\n",
       "      <th>60</th>\n",
       "      <td>100.570892</td>\n",
       "      <td>100.0</td>\n",
       "      <td>10000</td>\n",
       "    </tr>\n",
       "    <tr>\n",
       "      <th>324</th>\n",
       "      <td>150.242113</td>\n",
       "      <td>150.0</td>\n",
       "      <td>10000</td>\n",
       "    </tr>\n",
       "    <tr>\n",
       "      <th>17</th>\n",
       "      <td>147.330229</td>\n",
       "      <td>137.5</td>\n",
       "      <td>10000</td>\n",
       "    </tr>\n",
       "    <tr>\n",
       "      <th>90</th>\n",
       "      <td>123.175214</td>\n",
       "      <td>112.5</td>\n",
       "      <td>10000</td>\n",
       "    </tr>\n",
       "    <tr>\n",
       "      <th>265</th>\n",
       "      <td>10.074124</td>\n",
       "      <td>0.0</td>\n",
       "      <td>10000</td>\n",
       "    </tr>\n",
       "    <tr>\n",
       "      <th>156</th>\n",
       "      <td>117.082853</td>\n",
       "      <td>112.5</td>\n",
       "      <td>10000</td>\n",
       "    </tr>\n",
       "    <tr>\n",
       "      <th>338</th>\n",
       "      <td>60.141897</td>\n",
       "      <td>50.0</td>\n",
       "      <td>10000</td>\n",
       "    </tr>\n",
       "    <tr>\n",
       "      <th>95</th>\n",
       "      <td>365.816464</td>\n",
       "      <td>362.5</td>\n",
       "      <td>10000</td>\n",
       "    </tr>\n",
       "    <tr>\n",
       "      <th>477</th>\n",
       "      <td>75.011845</td>\n",
       "      <td>75.0</td>\n",
       "      <td>10000</td>\n",
       "    </tr>\n",
       "    <tr>\n",
       "      <th>215</th>\n",
       "      <td>29.715601</td>\n",
       "      <td>25.0</td>\n",
       "      <td>10000</td>\n",
       "    </tr>\n",
       "    <tr>\n",
       "      <th>301</th>\n",
       "      <td>6.075781</td>\n",
       "      <td>0.0</td>\n",
       "      <td>10000</td>\n",
       "    </tr>\n",
       "    <tr>\n",
       "      <th>218</th>\n",
       "      <td>2.032437</td>\n",
       "      <td>0.0</td>\n",
       "      <td>10000</td>\n",
       "    </tr>\n",
       "  </tbody>\n",
       "</table>\n",
       "</div>"
      ],
      "text/plain": [
       "          Money  Class   Case\n",
       "110  185.872313  175.0  10000\n",
       "241  140.419158  137.5  10000\n",
       "427  185.149486  175.0  10000\n",
       "60   100.570892  100.0  10000\n",
       "324  150.242113  150.0  10000\n",
       "17   147.330229  137.5  10000\n",
       "90   123.175214  112.5  10000\n",
       "265   10.074124    0.0  10000\n",
       "156  117.082853  112.5  10000\n",
       "338   60.141897   50.0  10000\n",
       "95   365.816464  362.5  10000\n",
       "477   75.011845   75.0  10000\n",
       "215   29.715601   25.0  10000\n",
       "301    6.075781    0.0  10000\n",
       "218    2.032437    0.0  10000"
      ]
     },
     "execution_count": 19,
     "metadata": {},
     "output_type": "execute_result"
    }
   ],
   "source": [
    "df.sample(n=15) # Last iteration"
   ]
  },
  {
   "cell_type": "code",
   "execution_count": 20,
   "id": "afb8247c",
   "metadata": {},
   "outputs": [
    {
     "data": {
      "image/png": "[encoded data removed]",
      "text/plain": [
       "<Figure size 432x288 with 1 Axes>"
      ]
     },
     "metadata": {
      "needs_background": "light"
     },
     "output_type": "display_data"
    }
   ],
   "source": [
    "plt.hist(df['Money'],C)\n",
    "plt.title('Distribution of money \\n',fontweight ='bold')\n",
    "plt.xlabel('Money class')\n",
    "plt.ylabel('Frequency')\n",
    "plt.show()"
   ]
  },
  {
   "cell_type": "code",
   "execution_count": 21,
   "id": "a44ba9f9",
   "metadata": {},
   "outputs": [
    {
     "data": {
      "image/png": "[encoded data removed]",
      "text/plain": [
       "<Figure size 432x288 with 1 Axes>"
      ]
     },
     "metadata": {
      "needs_background": "light"
     },
     "output_type": "display_data"
    }
   ],
   "source": [
    "plt.hist(df['Money'],C,log=True)\n",
    "plt.title('Distribution of money \\n',fontweight = 'bold')\n",
    "plt.xlabel('Money class')\n",
    "plt.ylabel('Frequency')\n",
    "plt.show()"
   ]
  },
  {
   "cell_type": "markdown",
   "id": "fbe4a8bf",
   "metadata": {},
   "source": [
    "### Entropy through time"
   ]
  },
  {
   "cell_type": "code",
   "execution_count": 22,
   "id": "a7f551db",
   "metadata": {},
   "outputs": [
    {
     "data": {
      "image/png": "[encoded data removed]",
      "text/plain": [
       "<Figure size 432x288 with 1 Axes>"
      ]
     },
     "metadata": {
      "needs_background": "light"
     },
     "output_type": "display_data"
    }
   ],
   "source": [
    "plt.plot(entropy)\n",
    "plt.ylabel('Entropy')\n",
    "plt.xlabel('Time {iteration}')\n",
    "plt.show()"
   ]
  },
  {
   "cell_type": "code",
   "execution_count": 23,
   "id": "1e58996c",
   "metadata": {},
   "outputs": [
    {
     "name": "stdout",
     "output_type": "stream",
     "text": [
      "The final value of the entropy is: 1510.6676250427174\n"
     ]
    }
   ],
   "source": [
    "print(f'The final value of the entropy is: {entropy[-1]}')"
   ]
  },
  {
   "cell_type": "markdown",
   "id": "1f21b23d",
   "metadata": {},
   "source": [
    "### Conservation of Money ***(M)***"
   ]
  },
  {
   "cell_type": "code",
   "execution_count": 24,
   "id": "3fcc7a48",
   "metadata": {},
   "outputs": [
    {
     "data": {
      "image/png": "[encoded data removed]",
      "text/plain": [
       "<Figure size 432x288 with 1 Axes>"
      ]
     },
     "metadata": {
      "needs_background": "light"
     },
     "output_type": "display_data"
    }
   ],
   "source": [
    "plt.plot(money,'bs')\n",
    "plt.title('Money conservation')\n",
    "plt.xlabel('Time {iteration}')\n",
    "plt.ylabel('Total of Money')\n",
    "plt.show()"
   ]
  },
  {
   "cell_type": "markdown",
   "id": "b74ec201",
   "metadata": {},
   "source": [
    "### Evolution of collective profit"
   ]
  },
  {
   "cell_type": "code",
   "execution_count": 25,
   "id": "451d14bb",
   "metadata": {},
   "outputs": [
    {
     "data": {
      "image/png": "[encoded data removed]",
      "text/plain": [
       "<Figure size 432x288 with 1 Axes>"
      ]
     },
     "metadata": {
      "needs_background": "light"
     },
     "output_type": "display_data"
    }
   ],
   "source": [
    "plt.plot(wellness,'b')\n",
    "plt.title('Collective Profit')\n",
    "plt.xlabel('Time {iteration}')\n",
    "plt.ylabel('Wellness')\n",
    "plt.show()"
   ]
  },
  {
   "cell_type": "markdown",
   "id": "ed7ef64a",
   "metadata": {},
   "source": [
    "## Case : Special Agent\n",
    "Simulating a government effect which takes a fraction $\\lambda_{t}$ of each transaction and redistributes every certain time $\\tau_{s}$"
   ]
  },
  {
   "cell_type": "markdown",
   "id": "98bf248f",
   "metadata": {},
   "source": [
    "We have to run again the first section ***General Parameters*** and ***Initial Distribution***"
   ]
  },
  {
   "cell_type": "code",
   "execution_count": 38,
   "id": "7b544bf8",
   "metadata": {},
   "outputs": [],
   "source": [
    "#dM = 3 # Parameter provided by Yakobenko. Should be always positive.\n",
    "       # Further considerations will be more complex\n",
    "\n",
    "t = 10000 # Given time to the system evolution\n",
    "\n",
    "tax = 0.84 # According to Mexican's Laws the IVA is around 16% of each transaction\n",
    "\n",
    "timer = 0 # Trigger to the redistribution\n",
    "token = t/100 # Parameter for the redistribution"
   ]
  },
  {
   "cell_type": "code",
   "execution_count": 40,
   "id": "83d4532c",
   "metadata": {},
   "outputs": [],
   "source": [
    "for i in range(t):\n",
    "    \n",
    "    if (timer == token):\n",
    "        r = sum(reservoir)/N # Constant r is the average of the total taxes collected.\n",
    "        df['Money'] = df['Money'] + r # Add r to the current money of each agent\n",
    "        reservoir = [0] # Restart the money in the bank\n",
    "        timer = 0\n",
    "    \n",
    "    v = np.random.uniform(0, 1) # Random fraction 0 < v < 1\n",
    "    s = np.random.choice([-1,1]) # Random variable either -1 or 1.\n",
    "    \n",
    "    p = random.sample(range(N),2) \n",
    "    \n",
    "    #mk = df.iat[p[i,0],0]\n",
    "    #ml = df.iat[p[i,1],0]\n",
    "    mk = df.iat[p[0],0]\n",
    "    ml = df.iat[p[1],0]\n",
    "    \n",
    "    \n",
    "    # Possible dM's\n",
    "    dM = v *(mk + ml)/2 # Exchange of random fraction v \n",
    "                       # of the average money of the pair.\n",
    "    # dM = v * M/N # Exchange of random fraction v of the average\n",
    "                   # of the system\n",
    "    if (ml - dM) > 0:\n",
    "        reservoir.append(dM*0.16)\n",
    "        df.at[p[0],'Money'] = mk + dM*tax # TAX\n",
    "        df.at[p[1],'Money'] = ml - dM\n",
    "    \n",
    "    df['Class'] = pd.cut(x=df['Money'],bins=scale,labels=labe)\n",
    "    df['Case'] = i+1\n",
    "    \n",
    "    #dfFinal = pd.concat([dfFinal,df])\n",
    "    \n",
    "    # wellness.append(Ouno(df,a)) # Wellnes with O1\n",
    "    wellness.append(Odos(df,a)) # wellnes with O2\n",
    "    money.append(df['Money'].sum()+sum(reservoir))\n",
    "    moneyPartial.append(df['Money'].sum())\n",
    "    entropy.append(calcEntropy(df))\n",
    "    \n",
    "    timer += 1 # Update the value of the iteration"
   ]
  },
  {
   "cell_type": "markdown",
   "id": "a304e043",
   "metadata": {},
   "source": [
    "###  Distribution with redistribution"
   ]
  },
  {
   "cell_type": "code",
   "execution_count": 41,
   "id": "7417579c",
   "metadata": {},
   "outputs": [
    {
     "data": {
      "text/plain": [
       "<AxesSubplot:xlabel='Money', ylabel='Count'>"
      ]
     },
     "execution_count": 41,
     "metadata": {},
     "output_type": "execute_result"
    },
    {
     "data": {
      "image/png": "[encoded data removed]",
      "text/plain": [
       "<Figure size 432x288 with 1 Axes>"
      ]
     },
     "metadata": {
      "needs_background": "light"
     },
     "output_type": "display_data"
    }
   ],
   "source": [
    "sns.histplot(data=df,x='Money',bins=C)"
   ]
  },
  {
   "cell_type": "code",
   "execution_count": 42,
   "id": "29c93782",
   "metadata": {},
   "outputs": [
    {
     "data": {
      "text/html": [
       "<div>\n",
       "<style scoped>\n",
       "    .dataframe tbody tr th:only-of-type {\n",
       "        vertical-align: middle;\n",
       "    }\n",
       "\n",
       "    .dataframe tbody tr th {\n",
       "        vertical-align: top;\n",
       "    }\n",
       "\n",
       "    .dataframe thead th {\n",
       "        text-align: right;\n",
       "    }\n",
       "</style>\n",
       "<table border=\"1\" class=\"dataframe\">\n",
       "  <thead>\n",
       "    <tr style=\"text-align: right;\">\n",
       "      <th></th>\n",
       "      <th>Money</th>\n",
       "      <th>Class</th>\n",
       "      <th>Case</th>\n",
       "    </tr>\n",
       "  </thead>\n",
       "  <tbody>\n",
       "    <tr>\n",
       "      <th>226</th>\n",
       "      <td>95.633607</td>\n",
       "      <td>87.5</td>\n",
       "      <td>10000</td>\n",
       "    </tr>\n",
       "    <tr>\n",
       "      <th>494</th>\n",
       "      <td>55.197444</td>\n",
       "      <td>50.0</td>\n",
       "      <td>10000</td>\n",
       "    </tr>\n",
       "    <tr>\n",
       "      <th>95</th>\n",
       "      <td>265.620176</td>\n",
       "      <td>262.5</td>\n",
       "      <td>10000</td>\n",
       "    </tr>\n",
       "    <tr>\n",
       "      <th>422</th>\n",
       "      <td>141.487667</td>\n",
       "      <td>137.5</td>\n",
       "      <td>10000</td>\n",
       "    </tr>\n",
       "    <tr>\n",
       "      <th>115</th>\n",
       "      <td>60.325082</td>\n",
       "      <td>50.0</td>\n",
       "      <td>10000</td>\n",
       "    </tr>\n",
       "    <tr>\n",
       "      <th>398</th>\n",
       "      <td>32.848647</td>\n",
       "      <td>25.0</td>\n",
       "      <td>10000</td>\n",
       "    </tr>\n",
       "    <tr>\n",
       "      <th>174</th>\n",
       "      <td>127.313300</td>\n",
       "      <td>125.0</td>\n",
       "      <td>10000</td>\n",
       "    </tr>\n",
       "    <tr>\n",
       "      <th>342</th>\n",
       "      <td>41.264486</td>\n",
       "      <td>37.5</td>\n",
       "      <td>10000</td>\n",
       "    </tr>\n",
       "    <tr>\n",
       "      <th>315</th>\n",
       "      <td>32.053660</td>\n",
       "      <td>25.0</td>\n",
       "      <td>10000</td>\n",
       "    </tr>\n",
       "    <tr>\n",
       "      <th>77</th>\n",
       "      <td>32.242718</td>\n",
       "      <td>25.0</td>\n",
       "      <td>10000</td>\n",
       "    </tr>\n",
       "    <tr>\n",
       "      <th>15</th>\n",
       "      <td>109.774000</td>\n",
       "      <td>100.0</td>\n",
       "      <td>10000</td>\n",
       "    </tr>\n",
       "    <tr>\n",
       "      <th>331</th>\n",
       "      <td>280.626027</td>\n",
       "      <td>275.0</td>\n",
       "      <td>10000</td>\n",
       "    </tr>\n",
       "    <tr>\n",
       "      <th>252</th>\n",
       "      <td>89.849378</td>\n",
       "      <td>87.5</td>\n",
       "      <td>10000</td>\n",
       "    </tr>\n",
       "    <tr>\n",
       "      <th>473</th>\n",
       "      <td>48.636473</td>\n",
       "      <td>37.5</td>\n",
       "      <td>10000</td>\n",
       "    </tr>\n",
       "    <tr>\n",
       "      <th>476</th>\n",
       "      <td>107.524475</td>\n",
       "      <td>100.0</td>\n",
       "      <td>10000</td>\n",
       "    </tr>\n",
       "  </tbody>\n",
       "</table>\n",
       "</div>"
      ],
      "text/plain": [
       "          Money  Class   Case\n",
       "226   95.633607   87.5  10000\n",
       "494   55.197444   50.0  10000\n",
       "95   265.620176  262.5  10000\n",
       "422  141.487667  137.5  10000\n",
       "115   60.325082   50.0  10000\n",
       "398   32.848647   25.0  10000\n",
       "174  127.313300  125.0  10000\n",
       "342   41.264486   37.5  10000\n",
       "315   32.053660   25.0  10000\n",
       "77    32.242718   25.0  10000\n",
       "15   109.774000  100.0  10000\n",
       "331  280.626027  275.0  10000\n",
       "252   89.849378   87.5  10000\n",
       "473   48.636473   37.5  10000\n",
       "476  107.524475  100.0  10000"
      ]
     },
     "execution_count": 42,
     "metadata": {},
     "output_type": "execute_result"
    }
   ],
   "source": [
    "df.sample(n=15) # Last iteration"
   ]
  },
  {
   "cell_type": "code",
   "execution_count": 43,
   "id": "45936c4a",
   "metadata": {},
   "outputs": [],
   "source": [
    "#px.scatter(dfFinal,x=dfFinal.index,y='Money',animation_frame='Case'\n",
    "           #,color='Case')"
   ]
  },
  {
   "cell_type": "markdown",
   "id": "b264a20b",
   "metadata": {},
   "source": [
    "### Entropy through time"
   ]
  },
  {
   "cell_type": "code",
   "execution_count": 44,
   "id": "72c52bed",
   "metadata": {},
   "outputs": [
    {
     "data": {
      "image/png": "[encoded data removed]",
      "text/plain": [
       "<Figure size 432x288 with 1 Axes>"
      ]
     },
     "metadata": {
      "needs_background": "light"
     },
     "output_type": "display_data"
    }
   ],
   "source": [
    "plt.plot(entropy)\n",
    "plt.ylabel('Entropy')\n",
    "plt.xlabel('Time {iteration}')\n",
    "plt.show()"
   ]
  },
  {
   "cell_type": "markdown",
   "id": "8f7e8747",
   "metadata": {},
   "source": [
    "### Final value of entropy"
   ]
  },
  {
   "cell_type": "code",
   "execution_count": 45,
   "id": "7294846a",
   "metadata": {},
   "outputs": [
    {
     "name": "stdout",
     "output_type": "stream",
     "text": [
      "The final value of the entropy is: 1501.1040446334719\n"
     ]
    }
   ],
   "source": [
    "print(f'The final value of the entropy is: {entropy[-1]}')"
   ]
  },
  {
   "cell_type": "markdown",
   "id": "a2333e7f",
   "metadata": {},
   "source": [
    "### Conservation of Money ***(M)***"
   ]
  },
  {
   "cell_type": "code",
   "execution_count": 46,
   "id": "9c8347f6",
   "metadata": {},
   "outputs": [
    {
     "data": {
      "image/png": "[encoded data removed]",
      "text/plain": [
       "<Figure size 432x288 with 1 Axes>"
      ]
     },
     "metadata": {
      "needs_background": "light"
     },
     "output_type": "display_data"
    }
   ],
   "source": [
    "plt.plot(money[::100],'b')\n",
    "plt.title('Money conservation')\n",
    "plt.xlabel('Time {iteration}')\n",
    "plt.ylabel('Total of Money')\n",
    "plt.show()"
   ]
  },
  {
   "cell_type": "code",
   "execution_count": 47,
   "id": "d7e36075",
   "metadata": {},
   "outputs": [
    {
     "data": {
      "image/png": "[encoded data removed]",
      "text/plain": [
       "<Figure size 432x288 with 1 Axes>"
      ]
     },
     "metadata": {
      "needs_background": "light"
     },
     "output_type": "display_data"
    }
   ],
   "source": [
    "plt.plot(moneyPartial[::100],'b')\n",
    "plt.title('Money conservation (fluctuations)')\n",
    "plt.xlabel('Time {iteration}')\n",
    "plt.ylabel('Total of Money')\n",
    "plt.show()"
   ]
  },
  {
   "cell_type": "markdown",
   "id": "3b5aa243",
   "metadata": {},
   "source": [
    "### Evolution of collective profit"
   ]
  },
  {
   "cell_type": "code",
   "execution_count": 48,
   "id": "470cb9db",
   "metadata": {},
   "outputs": [
    {
     "data": {
      "image/png": "[encoded data removed]",
      "text/plain": [
       "<Figure size 432x288 with 1 Axes>"
      ]
     },
     "metadata": {
      "needs_background": "light"
     },
     "output_type": "display_data"
    }
   ],
   "source": [
    "plt.plot(wellness[::50],'b')\n",
    "plt.title('Collective Profit')\n",
    "plt.xlabel('Time {iteration}')\n",
    "plt.ylabel('Wellness')\n",
    "plt.show()"
   ]
  },
  {
   "cell_type": "markdown",
   "id": "2e636aac",
   "metadata": {},
   "source": [
    "# Stage 2. Simulating the evolution of collective profit"
   ]
  },
  {
   "cell_type": "markdown",
   "id": "352aa657",
   "metadata": {},
   "source": [
    "Be $O$ the **objective function of the system**, which meaures the global performance of the system, it's given by $O(n_{1},n_{2},...,n_{c})=\\sum_{k=1}^{C}n_{k}o_{1}(M_{k})$ where $M_{k}$ is the amount of money of each member of the class $k$ and $n_{k}$ is the number of agents in the same class; $C$ is the number of classes."
   ]
  },
  {
   "cell_type": "markdown",
   "id": "97a98e8c",
   "metadata": {},
   "source": [
    "The place of this part is only for the purpose of relating to the given planning, the ***WELLNESS*** is being calculated within the main for loops. "
   ]
  },
  {
   "cell_type": "markdown",
   "id": "30dbdb3b",
   "metadata": {},
   "source": [
    "def Ouno(df,a):\n",
    "    # a should be greater than 0 (a > 0)\n",
    "    # C = df['Class'].count() # Number of classes.\n",
    "    O = 0 # Performance of the system.\n",
    "    eClas = list(set(df['Class'].tolist())) #Unique values.\n",
    "    for e in eClas:\n",
    "        aux = df.loc[df['Class'] == e] # Get the all the class.\n",
    "        Mk = aux['Money'].mean()# Average money of each agent of the given class.\n",
    "        O += a*Mk # Function O1(M)\n",
    "        \n",
    "def Odos(df,a):\n",
    "    # a should be greater than 0 (a > 0)\n",
    "    # C = df['Class'].count() # Number of classes.\n",
    "    O = 0 # Performance of the system.\n",
    "    eClas = list(set(df['Class'].tolist())) #Unique values.\n",
    "    for e in eClas:\n",
    "        aux = df.loc[df['Class'] == e] # Get the all the class.\n",
    "        Mk = aux['Money'].mean()# Average money of each agent of the given class.\n",
    "        O += 1-(exp(-a*Mk)) # Function O1(M) "
   ]
  }
 ],
 "metadata": {
  "kernelspec": {
   "display_name": "Python 3",
   "language": "python",
   "name": "python3"
  },
  "language_info": {
   "codemirror_mode": {
    "name": "ipython",
    "version": 3
   },
   "file_extension": ".py",
   "mimetype": "text/x-python",
   "name": "python",
   "nbconvert_exporter": "python",
   "pygments_lexer": "ipython3",
   "version": "3.8.8"
  }
 },
 "nbformat": 4,
 "nbformat_minor": 5
}
