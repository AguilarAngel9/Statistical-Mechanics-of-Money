{
 "cells": [
  {
   "cell_type": "markdown",
   "id": "6ff436ac",
   "metadata": {},
   "source": [
    "# Stage 1. Simulation based on the Statistical mechanics of Money"
   ]
  },
  {
   "cell_type": "code",
   "execution_count": null,
   "id": "3eb8d686",
   "metadata": {},
   "outputs": [],
   "source": [
    "%cd\n",
    "! pip install plotly==5.3.1"
   ]
  },
  {
   "cell_type": "code",
   "execution_count": 1,
   "id": "b9fa5604",
   "metadata": {},
   "outputs": [],
   "source": [
    "# Libraries\n",
    "import pandas as pd\n",
    "import numpy as np\n",
    "import matplotlib.pyplot as plt\n",
    "import matplotlib.animation as animation\n",
    "import plotly.express as px\n",
    "import seaborn as sns\n",
    "import random"
   ]
  },
  {
   "cell_type": "markdown",
   "id": "a7f05195",
   "metadata": {},
   "source": [
    "### Entropy function"
   ]
  },
  {
   "cell_type": "code",
   "execution_count": 2,
   "id": "8c80f256",
   "metadata": {},
   "outputs": [],
   "source": [
    "def calcEntropy(df):\n",
    "    n = df['Money'].tolist()\n",
    "    c = df['Class'].count()\n",
    "    s1 = c*np.log(c)\n",
    "    s2 = 0\n",
    "    eClas = list(set(df['Class'].tolist())) #Unique values\n",
    "    for e in eClas:\n",
    "        aux = df.loc[df['Class'] == e]\n",
    "        nk = aux['Class'].count()\n",
    "        lnk = np.log(nk)\n",
    "        s2 += nk*lnk\n",
    "    \n",
    "    S = s1 - s2\n",
    "    return S"
   ]
  },
  {
   "cell_type": "markdown",
   "id": "f8de596f",
   "metadata": {},
   "source": [
    "### General Parameters"
   ]
  },
  {
   "cell_type": "code",
   "execution_count": 3,
   "id": "c1b0c200",
   "metadata": {},
   "outputs": [],
   "source": [
    "C = 400 # Money classes.\n",
    "M = 10000 # Total amount of money given by sum(m_{i}).\n",
    "N = 500; # Agents.\n",
    "dfFinal = pd.DataFrame(columns=['Money','Class','Case']) # Empty df for animation.\n",
    "entropy = [] # Entropy.\n",
    "money = [] # Money.\n",
    "reservoir = [0] # Money to redistribute.\n",
    "moneyPartial = [] # Money partial."
   ]
  },
  {
   "cell_type": "code",
   "execution_count": 4,
   "id": "fbaa5039",
   "metadata": {},
   "outputs": [
    {
     "data": {
      "text/html": [
       "<div>\n",
       "<style scoped>\n",
       "    .dataframe tbody tr th:only-of-type {\n",
       "        vertical-align: middle;\n",
       "    }\n",
       "\n",
       "    .dataframe tbody tr th {\n",
       "        vertical-align: top;\n",
       "    }\n",
       "\n",
       "    .dataframe thead th {\n",
       "        text-align: right;\n",
       "    }\n",
       "</style>\n",
       "<table border=\"1\" class=\"dataframe\">\n",
       "  <thead>\n",
       "    <tr style=\"text-align: right;\">\n",
       "      <th></th>\n",
       "      <th>Money</th>\n",
       "      <th>Class</th>\n",
       "      <th>Case</th>\n",
       "    </tr>\n",
       "  </thead>\n",
       "  <tbody>\n",
       "  </tbody>\n",
       "</table>\n",
       "</div>"
      ],
      "text/plain": [
       "Empty DataFrame\n",
       "Columns: [Money, Class, Case]\n",
       "Index: []"
      ]
     },
     "execution_count": 4,
     "metadata": {},
     "output_type": "execute_result"
    }
   ],
   "source": [
    "dfFinal"
   ]
  },
  {
   "cell_type": "markdown",
   "id": "2792e3ef",
   "metadata": {},
   "source": [
    "### Initial distributions\n",
    "First, we started with the **Delta distribution** given by $\\delta(m_{l}-\\frac{M}{N})$"
   ]
  },
  {
   "cell_type": "code",
   "execution_count": 5,
   "id": "be141145",
   "metadata": {},
   "outputs": [
    {
     "name": "stdout",
     "output_type": "stream",
     "text": [
      "Cada uno esta comenzando con 20.0 pesos\n"
     ]
    }
   ],
   "source": [
    "Mi = M/N # Delta distribution - All agents have the same amount of money.\n",
    "Ma = np.ones(N) * Mi # Initial values of agents money.\n",
    "print(f'Cada uno esta comenzando con {Mi} pesos')"
   ]
  },
  {
   "cell_type": "markdown",
   "id": "ba9b228e",
   "metadata": {},
   "source": [
    "Also, we have the uniform distribution given by $f(m_{l}) = cte$"
   ]
  },
  {
   "cell_type": "code",
   "execution_count": 6,
   "id": "5398cc9c",
   "metadata": {},
   "outputs": [],
   "source": [
    "# code"
   ]
  },
  {
   "cell_type": "code",
   "execution_count": 7,
   "id": "75dd0750",
   "metadata": {},
   "outputs": [],
   "source": [
    "d = {\"Money\": Ma} # {\"Money\": Ma, \"Class\": Ci, \"variable\": data}.\n",
    "df = pd.DataFrame(d) # Create a dataframe to store each iteration."
   ]
  },
  {
   "cell_type": "code",
   "execution_count": 8,
   "id": "c43bac71",
   "metadata": {},
   "outputs": [
    {
     "data": {
      "text/plain": [
       "1247.5"
      ]
     },
     "execution_count": 8,
     "metadata": {},
     "output_type": "execute_result"
    }
   ],
   "source": [
    "# Create the classes based on M and C.\n",
    "scale = [M/(4*C)]*(int(C/2))\n",
    "for i in range(int(C/2)):\n",
    "    scale[i] = scale[i]*i\n",
    "#lab = [str(i) for i in scale]\n",
    "labe = list(np.linspace(scale[0],scale[-1],len(scale)))\n",
    "labe.pop()\n",
    "#print(labe)"
   ]
  },
  {
   "cell_type": "code",
   "execution_count": 9,
   "id": "3340db7a",
   "metadata": {},
   "outputs": [],
   "source": [
    "df['Class'] = pd.cut(x=df['Money'],bins=scale,labels=labe)\n",
    "df['Case'] = 0;\n",
    "dfFinal = pd.concat([dfFinal,df])"
   ]
  },
  {
   "cell_type": "code",
   "execution_count": 10,
   "id": "c22d3b41",
   "metadata": {},
   "outputs": [],
   "source": [
    "money.append(df['Money'].sum()) # Initial money\n",
    "entropy.append(calcEntropy(df)) # Initial entropy"
   ]
  },
  {
   "cell_type": "code",
   "execution_count": 11,
   "id": "6f13f40a",
   "metadata": {},
   "outputs": [],
   "source": [
    "#df.head(10)"
   ]
  },
  {
   "cell_type": "code",
   "execution_count": 12,
   "id": "e1ac4699",
   "metadata": {},
   "outputs": [
    {
     "data": {
      "image/png": "[encoded data removed]",
      "text/plain": [
       "<Figure size 432x288 with 1 Axes>"
      ]
     },
     "metadata": {
      "needs_background": "light"
     },
     "output_type": "display_data"
    }
   ],
   "source": [
    "plt.scatter(df.index,df.Money)\n",
    "plt.title('Initial Distribution: Delta')\n",
    "plt.xlabel('Agent')\n",
    "plt.ylabel('Amount of money')\n",
    "plt.show()"
   ]
  },
  {
   "cell_type": "code",
   "execution_count": 13,
   "id": "0ed14d1a",
   "metadata": {},
   "outputs": [
    {
     "data": {
      "text/plain": [
       "<AxesSubplot:xlabel='Money', ylabel='Count'>"
      ]
     },
     "execution_count": 13,
     "metadata": {},
     "output_type": "execute_result"
    },
    {
     "data": {
      "image/png": "[encoded data removed]",
      "text/plain": [
       "<Figure size 432x288 with 1 Axes>"
      ]
     },
     "metadata": {
      "needs_background": "light"
     },
     "output_type": "display_data"
    }
   ],
   "source": [
    "sns.histplot(data=df,x='Money',bins=C)"
   ]
  },
  {
   "cell_type": "code",
   "execution_count": 14,
   "id": "a3309bcc",
   "metadata": {},
   "outputs": [],
   "source": [
    "# S = N ln(N) - sum(n_{i}ln(n_{i}))\n",
    "# S = N ln(C)\n",
    "# M = (N*dm/2)(k+2)"
   ]
  },
  {
   "cell_type": "markdown",
   "id": "0c26f69a",
   "metadata": {},
   "source": [
    "## System Evolution"
   ]
  },
  {
   "cell_type": "markdown",
   "id": "dd195beb",
   "metadata": {},
   "source": [
    "### Using a fixed dM"
   ]
  },
  {
   "cell_type": "code",
   "execution_count": 15,
   "id": "c88b4658",
   "metadata": {},
   "outputs": [],
   "source": [
    "dM = 3 # Parameter provided by Yakobenko. Should be always positive.\n",
    "       # Further considerations will be more complex\n",
    "\n",
    "t = 30000 # Given time to the system evolution"
   ]
  },
  {
   "cell_type": "code",
   "execution_count": 16,
   "id": "0db72d5c",
   "metadata": {},
   "outputs": [
    {
     "ename": "KeyboardInterrupt",
     "evalue": "",
     "output_type": "error",
     "traceback": [
      "\u001b[1;31m---------------------------------------------------------------------------\u001b[0m",
      "\u001b[1;31mKeyboardInterrupt\u001b[0m                         Traceback (most recent call last)",
      "\u001b[1;32m<ipython-input-16-f46ce4e7512b>\u001b[0m in \u001b[0;36m<module>\u001b[1;34m\u001b[0m\n\u001b[0;32m     24\u001b[0m     \u001b[1;31m#dfFinal = pd.concat([dfFinal,df])\u001b[0m\u001b[1;33m\u001b[0m\u001b[1;33m\u001b[0m\u001b[1;33m\u001b[0m\u001b[0m\n\u001b[0;32m     25\u001b[0m     \u001b[0mmoney\u001b[0m\u001b[1;33m.\u001b[0m\u001b[0mappend\u001b[0m\u001b[1;33m(\u001b[0m\u001b[0mdf\u001b[0m\u001b[1;33m[\u001b[0m\u001b[1;34m'Money'\u001b[0m\u001b[1;33m]\u001b[0m\u001b[1;33m.\u001b[0m\u001b[0msum\u001b[0m\u001b[1;33m(\u001b[0m\u001b[1;33m)\u001b[0m\u001b[1;33m)\u001b[0m\u001b[1;33m\u001b[0m\u001b[1;33m\u001b[0m\u001b[0m\n\u001b[1;32m---> 26\u001b[1;33m     \u001b[0mentropy\u001b[0m\u001b[1;33m.\u001b[0m\u001b[0mappend\u001b[0m\u001b[1;33m(\u001b[0m\u001b[0mcalcEntropy\u001b[0m\u001b[1;33m(\u001b[0m\u001b[0mdf\u001b[0m\u001b[1;33m)\u001b[0m\u001b[1;33m)\u001b[0m\u001b[1;33m\u001b[0m\u001b[1;33m\u001b[0m\u001b[0m\n\u001b[0m",
      "\u001b[1;32m<ipython-input-2-4cc94bf2af52>\u001b[0m in \u001b[0;36mcalcEntropy\u001b[1;34m(df)\u001b[0m\n\u001b[0;32m      6\u001b[0m     \u001b[0meClas\u001b[0m \u001b[1;33m=\u001b[0m \u001b[0mlist\u001b[0m\u001b[1;33m(\u001b[0m\u001b[0mset\u001b[0m\u001b[1;33m(\u001b[0m\u001b[0mdf\u001b[0m\u001b[1;33m[\u001b[0m\u001b[1;34m'Class'\u001b[0m\u001b[1;33m]\u001b[0m\u001b[1;33m.\u001b[0m\u001b[0mtolist\u001b[0m\u001b[1;33m(\u001b[0m\u001b[1;33m)\u001b[0m\u001b[1;33m)\u001b[0m\u001b[1;33m)\u001b[0m \u001b[1;31m#Unique values\u001b[0m\u001b[1;33m\u001b[0m\u001b[1;33m\u001b[0m\u001b[0m\n\u001b[0;32m      7\u001b[0m     \u001b[1;32mfor\u001b[0m \u001b[0me\u001b[0m \u001b[1;32min\u001b[0m \u001b[0meClas\u001b[0m\u001b[1;33m:\u001b[0m\u001b[1;33m\u001b[0m\u001b[1;33m\u001b[0m\u001b[0m\n\u001b[1;32m----> 8\u001b[1;33m         \u001b[0maux\u001b[0m \u001b[1;33m=\u001b[0m \u001b[0mdf\u001b[0m\u001b[1;33m.\u001b[0m\u001b[0mloc\u001b[0m\u001b[1;33m[\u001b[0m\u001b[0mdf\u001b[0m\u001b[1;33m[\u001b[0m\u001b[1;34m'Class'\u001b[0m\u001b[1;33m]\u001b[0m \u001b[1;33m==\u001b[0m \u001b[0me\u001b[0m\u001b[1;33m]\u001b[0m\u001b[1;33m\u001b[0m\u001b[1;33m\u001b[0m\u001b[0m\n\u001b[0m\u001b[0;32m      9\u001b[0m         \u001b[0mnk\u001b[0m \u001b[1;33m=\u001b[0m \u001b[0maux\u001b[0m\u001b[1;33m[\u001b[0m\u001b[1;34m'Class'\u001b[0m\u001b[1;33m]\u001b[0m\u001b[1;33m.\u001b[0m\u001b[0mcount\u001b[0m\u001b[1;33m(\u001b[0m\u001b[1;33m)\u001b[0m\u001b[1;33m\u001b[0m\u001b[1;33m\u001b[0m\u001b[0m\n\u001b[0;32m     10\u001b[0m         \u001b[0mlnk\u001b[0m \u001b[1;33m=\u001b[0m \u001b[0mnp\u001b[0m\u001b[1;33m.\u001b[0m\u001b[0mlog\u001b[0m\u001b[1;33m(\u001b[0m\u001b[0mnk\u001b[0m\u001b[1;33m)\u001b[0m\u001b[1;33m\u001b[0m\u001b[1;33m\u001b[0m\u001b[0m\n",
      "\u001b[1;32mD:\\Anaconda\\lib\\site-packages\\pandas\\core\\indexing.py\u001b[0m in \u001b[0;36m__getitem__\u001b[1;34m(self, key)\u001b[0m\n\u001b[0;32m    893\u001b[0m \u001b[1;33m\u001b[0m\u001b[0m\n\u001b[0;32m    894\u001b[0m             \u001b[0mmaybe_callable\u001b[0m \u001b[1;33m=\u001b[0m \u001b[0mcom\u001b[0m\u001b[1;33m.\u001b[0m\u001b[0mapply_if_callable\u001b[0m\u001b[1;33m(\u001b[0m\u001b[0mkey\u001b[0m\u001b[1;33m,\u001b[0m \u001b[0mself\u001b[0m\u001b[1;33m.\u001b[0m\u001b[0mobj\u001b[0m\u001b[1;33m)\u001b[0m\u001b[1;33m\u001b[0m\u001b[1;33m\u001b[0m\u001b[0m\n\u001b[1;32m--> 895\u001b[1;33m             \u001b[1;32mreturn\u001b[0m \u001b[0mself\u001b[0m\u001b[1;33m.\u001b[0m\u001b[0m_getitem_axis\u001b[0m\u001b[1;33m(\u001b[0m\u001b[0mmaybe_callable\u001b[0m\u001b[1;33m,\u001b[0m \u001b[0maxis\u001b[0m\u001b[1;33m=\u001b[0m\u001b[0maxis\u001b[0m\u001b[1;33m)\u001b[0m\u001b[1;33m\u001b[0m\u001b[1;33m\u001b[0m\u001b[0m\n\u001b[0m\u001b[0;32m    896\u001b[0m \u001b[1;33m\u001b[0m\u001b[0m\n\u001b[0;32m    897\u001b[0m     \u001b[1;32mdef\u001b[0m \u001b[0m_is_scalar_access\u001b[0m\u001b[1;33m(\u001b[0m\u001b[0mself\u001b[0m\u001b[1;33m,\u001b[0m \u001b[0mkey\u001b[0m\u001b[1;33m:\u001b[0m \u001b[0mTuple\u001b[0m\u001b[1;33m)\u001b[0m\u001b[1;33m:\u001b[0m\u001b[1;33m\u001b[0m\u001b[1;33m\u001b[0m\u001b[0m\n",
      "\u001b[1;32mD:\\Anaconda\\lib\\site-packages\\pandas\\core\\indexing.py\u001b[0m in \u001b[0;36m_getitem_axis\u001b[1;34m(self, key, axis)\u001b[0m\n\u001b[0;32m   1102\u001b[0m             \u001b[1;32mreturn\u001b[0m \u001b[0mself\u001b[0m\u001b[1;33m.\u001b[0m\u001b[0m_get_slice_axis\u001b[0m\u001b[1;33m(\u001b[0m\u001b[0mkey\u001b[0m\u001b[1;33m,\u001b[0m \u001b[0maxis\u001b[0m\u001b[1;33m=\u001b[0m\u001b[0maxis\u001b[0m\u001b[1;33m)\u001b[0m\u001b[1;33m\u001b[0m\u001b[1;33m\u001b[0m\u001b[0m\n\u001b[0;32m   1103\u001b[0m         \u001b[1;32melif\u001b[0m \u001b[0mcom\u001b[0m\u001b[1;33m.\u001b[0m\u001b[0mis_bool_indexer\u001b[0m\u001b[1;33m(\u001b[0m\u001b[0mkey\u001b[0m\u001b[1;33m)\u001b[0m\u001b[1;33m:\u001b[0m\u001b[1;33m\u001b[0m\u001b[1;33m\u001b[0m\u001b[0m\n\u001b[1;32m-> 1104\u001b[1;33m             \u001b[1;32mreturn\u001b[0m \u001b[0mself\u001b[0m\u001b[1;33m.\u001b[0m\u001b[0m_getbool_axis\u001b[0m\u001b[1;33m(\u001b[0m\u001b[0mkey\u001b[0m\u001b[1;33m,\u001b[0m \u001b[0maxis\u001b[0m\u001b[1;33m=\u001b[0m\u001b[0maxis\u001b[0m\u001b[1;33m)\u001b[0m\u001b[1;33m\u001b[0m\u001b[1;33m\u001b[0m\u001b[0m\n\u001b[0m\u001b[0;32m   1105\u001b[0m         \u001b[1;32melif\u001b[0m \u001b[0mis_list_like_indexer\u001b[0m\u001b[1;33m(\u001b[0m\u001b[0mkey\u001b[0m\u001b[1;33m)\u001b[0m\u001b[1;33m:\u001b[0m\u001b[1;33m\u001b[0m\u001b[1;33m\u001b[0m\u001b[0m\n\u001b[0;32m   1106\u001b[0m \u001b[1;33m\u001b[0m\u001b[0m\n",
      "\u001b[1;32mD:\\Anaconda\\lib\\site-packages\\pandas\\core\\indexing.py\u001b[0m in \u001b[0;36m_getbool_axis\u001b[1;34m(self, key, axis)\u001b[0m\n\u001b[0;32m    912\u001b[0m         \u001b[0mkey\u001b[0m \u001b[1;33m=\u001b[0m \u001b[0mcheck_bool_indexer\u001b[0m\u001b[1;33m(\u001b[0m\u001b[0mlabels\u001b[0m\u001b[1;33m,\u001b[0m \u001b[0mkey\u001b[0m\u001b[1;33m)\u001b[0m\u001b[1;33m\u001b[0m\u001b[1;33m\u001b[0m\u001b[0m\n\u001b[0;32m    913\u001b[0m         \u001b[0minds\u001b[0m \u001b[1;33m=\u001b[0m \u001b[0mkey\u001b[0m\u001b[1;33m.\u001b[0m\u001b[0mnonzero\u001b[0m\u001b[1;33m(\u001b[0m\u001b[1;33m)\u001b[0m\u001b[1;33m[\u001b[0m\u001b[1;36m0\u001b[0m\u001b[1;33m]\u001b[0m\u001b[1;33m\u001b[0m\u001b[1;33m\u001b[0m\u001b[0m\n\u001b[1;32m--> 914\u001b[1;33m         \u001b[1;32mreturn\u001b[0m \u001b[0mself\u001b[0m\u001b[1;33m.\u001b[0m\u001b[0mobj\u001b[0m\u001b[1;33m.\u001b[0m\u001b[0m_take_with_is_copy\u001b[0m\u001b[1;33m(\u001b[0m\u001b[0minds\u001b[0m\u001b[1;33m,\u001b[0m \u001b[0maxis\u001b[0m\u001b[1;33m=\u001b[0m\u001b[0maxis\u001b[0m\u001b[1;33m)\u001b[0m\u001b[1;33m\u001b[0m\u001b[1;33m\u001b[0m\u001b[0m\n\u001b[0m\u001b[0;32m    915\u001b[0m \u001b[1;33m\u001b[0m\u001b[0m\n\u001b[0;32m    916\u001b[0m \u001b[1;33m\u001b[0m\u001b[0m\n",
      "\u001b[1;32mD:\\Anaconda\\lib\\site-packages\\pandas\\core\\generic.py\u001b[0m in \u001b[0;36m_take_with_is_copy\u001b[1;34m(self, indices, axis)\u001b[0m\n\u001b[0;32m   3598\u001b[0m         \u001b[0mSee\u001b[0m \u001b[0mthe\u001b[0m \u001b[0mdocstring\u001b[0m \u001b[0mof\u001b[0m\u001b[0;31m \u001b[0m\u001b[0;31m`\u001b[0m\u001b[0mtake\u001b[0m\u001b[0;31m`\u001b[0m \u001b[1;32mfor\u001b[0m \u001b[0mfull\u001b[0m \u001b[0mexplanation\u001b[0m \u001b[0mof\u001b[0m \u001b[0mthe\u001b[0m \u001b[0mparameters\u001b[0m\u001b[1;33m.\u001b[0m\u001b[1;33m\u001b[0m\u001b[1;33m\u001b[0m\u001b[0m\n\u001b[0;32m   3599\u001b[0m         \"\"\"\n\u001b[1;32m-> 3600\u001b[1;33m         \u001b[0mresult\u001b[0m \u001b[1;33m=\u001b[0m \u001b[0mself\u001b[0m\u001b[1;33m.\u001b[0m\u001b[0mtake\u001b[0m\u001b[1;33m(\u001b[0m\u001b[0mindices\u001b[0m\u001b[1;33m=\u001b[0m\u001b[0mindices\u001b[0m\u001b[1;33m,\u001b[0m \u001b[0maxis\u001b[0m\u001b[1;33m=\u001b[0m\u001b[0maxis\u001b[0m\u001b[1;33m)\u001b[0m\u001b[1;33m\u001b[0m\u001b[1;33m\u001b[0m\u001b[0m\n\u001b[0m\u001b[0;32m   3601\u001b[0m         \u001b[1;31m# Maybe set copy if we didn't actually change the index.\u001b[0m\u001b[1;33m\u001b[0m\u001b[1;33m\u001b[0m\u001b[1;33m\u001b[0m\u001b[0m\n\u001b[0;32m   3602\u001b[0m         \u001b[1;32mif\u001b[0m \u001b[1;32mnot\u001b[0m \u001b[0mresult\u001b[0m\u001b[1;33m.\u001b[0m\u001b[0m_get_axis\u001b[0m\u001b[1;33m(\u001b[0m\u001b[0maxis\u001b[0m\u001b[1;33m)\u001b[0m\u001b[1;33m.\u001b[0m\u001b[0mequals\u001b[0m\u001b[1;33m(\u001b[0m\u001b[0mself\u001b[0m\u001b[1;33m.\u001b[0m\u001b[0m_get_axis\u001b[0m\u001b[1;33m(\u001b[0m\u001b[0maxis\u001b[0m\u001b[1;33m)\u001b[0m\u001b[1;33m)\u001b[0m\u001b[1;33m:\u001b[0m\u001b[1;33m\u001b[0m\u001b[1;33m\u001b[0m\u001b[0m\n",
      "\u001b[1;32mD:\\Anaconda\\lib\\site-packages\\pandas\\core\\generic.py\u001b[0m in \u001b[0;36mtake\u001b[1;34m(self, indices, axis, is_copy, **kwargs)\u001b[0m\n\u001b[0;32m   3584\u001b[0m         \u001b[0mself\u001b[0m\u001b[1;33m.\u001b[0m\u001b[0m_consolidate_inplace\u001b[0m\u001b[1;33m(\u001b[0m\u001b[1;33m)\u001b[0m\u001b[1;33m\u001b[0m\u001b[1;33m\u001b[0m\u001b[0m\n\u001b[0;32m   3585\u001b[0m \u001b[1;33m\u001b[0m\u001b[0m\n\u001b[1;32m-> 3586\u001b[1;33m         new_data = self._mgr.take(\n\u001b[0m\u001b[0;32m   3587\u001b[0m             \u001b[0mindices\u001b[0m\u001b[1;33m,\u001b[0m \u001b[0maxis\u001b[0m\u001b[1;33m=\u001b[0m\u001b[0mself\u001b[0m\u001b[1;33m.\u001b[0m\u001b[0m_get_block_manager_axis\u001b[0m\u001b[1;33m(\u001b[0m\u001b[0maxis\u001b[0m\u001b[1;33m)\u001b[0m\u001b[1;33m,\u001b[0m \u001b[0mverify\u001b[0m\u001b[1;33m=\u001b[0m\u001b[1;32mTrue\u001b[0m\u001b[1;33m\u001b[0m\u001b[1;33m\u001b[0m\u001b[0m\n\u001b[0;32m   3588\u001b[0m         )\n",
      "\u001b[1;32mD:\\Anaconda\\lib\\site-packages\\pandas\\core\\internals\\managers.py\u001b[0m in \u001b[0;36mtake\u001b[1;34m(self, indexer, axis, verify, convert)\u001b[0m\n\u001b[0;32m   1472\u001b[0m \u001b[1;33m\u001b[0m\u001b[0m\n\u001b[0;32m   1473\u001b[0m         \u001b[0mnew_labels\u001b[0m \u001b[1;33m=\u001b[0m \u001b[0mself\u001b[0m\u001b[1;33m.\u001b[0m\u001b[0maxes\u001b[0m\u001b[1;33m[\u001b[0m\u001b[0maxis\u001b[0m\u001b[1;33m]\u001b[0m\u001b[1;33m.\u001b[0m\u001b[0mtake\u001b[0m\u001b[1;33m(\u001b[0m\u001b[0mindexer\u001b[0m\u001b[1;33m)\u001b[0m\u001b[1;33m\u001b[0m\u001b[1;33m\u001b[0m\u001b[0m\n\u001b[1;32m-> 1474\u001b[1;33m         return self.reindex_indexer(\n\u001b[0m\u001b[0;32m   1475\u001b[0m             \u001b[0mnew_axis\u001b[0m\u001b[1;33m=\u001b[0m\u001b[0mnew_labels\u001b[0m\u001b[1;33m,\u001b[0m \u001b[0mindexer\u001b[0m\u001b[1;33m=\u001b[0m\u001b[0mindexer\u001b[0m\u001b[1;33m,\u001b[0m \u001b[0maxis\u001b[0m\u001b[1;33m=\u001b[0m\u001b[0maxis\u001b[0m\u001b[1;33m,\u001b[0m \u001b[0mallow_dups\u001b[0m\u001b[1;33m=\u001b[0m\u001b[1;32mTrue\u001b[0m\u001b[1;33m\u001b[0m\u001b[1;33m\u001b[0m\u001b[0m\n\u001b[0;32m   1476\u001b[0m         )\n",
      "\u001b[1;32mD:\\Anaconda\\lib\\site-packages\\pandas\\core\\internals\\managers.py\u001b[0m in \u001b[0;36mreindex_indexer\u001b[1;34m(self, new_axis, indexer, axis, fill_value, allow_dups, copy, consolidate, only_slice)\u001b[0m\n\u001b[0;32m   1309\u001b[0m             )\n\u001b[0;32m   1310\u001b[0m         \u001b[1;32melse\u001b[0m\u001b[1;33m:\u001b[0m\u001b[1;33m\u001b[0m\u001b[1;33m\u001b[0m\u001b[0m\n\u001b[1;32m-> 1311\u001b[1;33m             new_blocks = [\n\u001b[0m\u001b[0;32m   1312\u001b[0m                 blk.take_nd(\n\u001b[0;32m   1313\u001b[0m                     \u001b[0mindexer\u001b[0m\u001b[1;33m,\u001b[0m\u001b[1;33m\u001b[0m\u001b[1;33m\u001b[0m\u001b[0m\n",
      "\u001b[1;32mD:\\Anaconda\\lib\\site-packages\\pandas\\core\\internals\\managers.py\u001b[0m in \u001b[0;36m<listcomp>\u001b[1;34m(.0)\u001b[0m\n\u001b[0;32m   1310\u001b[0m         \u001b[1;32melse\u001b[0m\u001b[1;33m:\u001b[0m\u001b[1;33m\u001b[0m\u001b[1;33m\u001b[0m\u001b[0m\n\u001b[0;32m   1311\u001b[0m             new_blocks = [\n\u001b[1;32m-> 1312\u001b[1;33m                 blk.take_nd(\n\u001b[0m\u001b[0;32m   1313\u001b[0m                     \u001b[0mindexer\u001b[0m\u001b[1;33m,\u001b[0m\u001b[1;33m\u001b[0m\u001b[1;33m\u001b[0m\u001b[0m\n\u001b[0;32m   1314\u001b[0m                     \u001b[0maxis\u001b[0m\u001b[1;33m=\u001b[0m\u001b[0maxis\u001b[0m\u001b[1;33m,\u001b[0m\u001b[1;33m\u001b[0m\u001b[1;33m\u001b[0m\u001b[0m\n",
      "\u001b[1;32mD:\\Anaconda\\lib\\site-packages\\pandas\\core\\internals\\blocks.py\u001b[0m in \u001b[0;36mtake_nd\u001b[1;34m(self, indexer, axis, new_mgr_locs, fill_value)\u001b[0m\n\u001b[0;32m   1871\u001b[0m         \u001b[1;31m# but are passed the axis depending on the calling routing\u001b[0m\u001b[1;33m\u001b[0m\u001b[1;33m\u001b[0m\u001b[1;33m\u001b[0m\u001b[0m\n\u001b[0;32m   1872\u001b[0m         \u001b[1;31m# if its REALLY axis 0, then this will be a reindex and not a take\u001b[0m\u001b[1;33m\u001b[0m\u001b[1;33m\u001b[0m\u001b[1;33m\u001b[0m\u001b[0m\n\u001b[1;32m-> 1873\u001b[1;33m         \u001b[0mnew_values\u001b[0m \u001b[1;33m=\u001b[0m \u001b[0mself\u001b[0m\u001b[1;33m.\u001b[0m\u001b[0mvalues\u001b[0m\u001b[1;33m.\u001b[0m\u001b[0mtake\u001b[0m\u001b[1;33m(\u001b[0m\u001b[0mindexer\u001b[0m\u001b[1;33m,\u001b[0m \u001b[0mfill_value\u001b[0m\u001b[1;33m=\u001b[0m\u001b[0mfill_value\u001b[0m\u001b[1;33m,\u001b[0m \u001b[0mallow_fill\u001b[0m\u001b[1;33m=\u001b[0m\u001b[1;32mTrue\u001b[0m\u001b[1;33m)\u001b[0m\u001b[1;33m\u001b[0m\u001b[1;33m\u001b[0m\u001b[0m\n\u001b[0m\u001b[0;32m   1874\u001b[0m \u001b[1;33m\u001b[0m\u001b[0m\n\u001b[0;32m   1875\u001b[0m         \u001b[1;31m# Called from three places in managers, all of which satisfy\u001b[0m\u001b[1;33m\u001b[0m\u001b[1;33m\u001b[0m\u001b[1;33m\u001b[0m\u001b[0m\n",
      "\u001b[1;32mD:\\Anaconda\\lib\\site-packages\\pandas\\core\\arrays\\_mixins.py\u001b[0m in \u001b[0;36mtake\u001b[1;34m(self, indices, allow_fill, fill_value, axis)\u001b[0m\n\u001b[0;32m     69\u001b[0m             \u001b[0mfill_value\u001b[0m \u001b[1;33m=\u001b[0m \u001b[0mself\u001b[0m\u001b[1;33m.\u001b[0m\u001b[0m_validate_fill_value\u001b[0m\u001b[1;33m(\u001b[0m\u001b[0mfill_value\u001b[0m\u001b[1;33m)\u001b[0m\u001b[1;33m\u001b[0m\u001b[1;33m\u001b[0m\u001b[0m\n\u001b[0;32m     70\u001b[0m \u001b[1;33m\u001b[0m\u001b[0m\n\u001b[1;32m---> 71\u001b[1;33m         new_data = take(\n\u001b[0m\u001b[0;32m     72\u001b[0m             \u001b[0mself\u001b[0m\u001b[1;33m.\u001b[0m\u001b[0m_ndarray\u001b[0m\u001b[1;33m,\u001b[0m\u001b[1;33m\u001b[0m\u001b[1;33m\u001b[0m\u001b[0m\n\u001b[0;32m     73\u001b[0m             \u001b[0mindices\u001b[0m\u001b[1;33m,\u001b[0m\u001b[1;33m\u001b[0m\u001b[1;33m\u001b[0m\u001b[0m\n",
      "\u001b[1;32mD:\\Anaconda\\lib\\site-packages\\pandas\\core\\algorithms.py\u001b[0m in \u001b[0;36mtake\u001b[1;34m(arr, indices, axis, allow_fill, fill_value)\u001b[0m\n\u001b[0;32m   1649\u001b[0m     \u001b[1;32mif\u001b[0m \u001b[0mallow_fill\u001b[0m\u001b[1;33m:\u001b[0m\u001b[1;33m\u001b[0m\u001b[1;33m\u001b[0m\u001b[0m\n\u001b[0;32m   1650\u001b[0m         \u001b[1;31m# Pandas style, -1 means NA\u001b[0m\u001b[1;33m\u001b[0m\u001b[1;33m\u001b[0m\u001b[1;33m\u001b[0m\u001b[0m\n\u001b[1;32m-> 1651\u001b[1;33m         \u001b[0mvalidate_indices\u001b[0m\u001b[1;33m(\u001b[0m\u001b[0mindices\u001b[0m\u001b[1;33m,\u001b[0m \u001b[0marr\u001b[0m\u001b[1;33m.\u001b[0m\u001b[0mshape\u001b[0m\u001b[1;33m[\u001b[0m\u001b[0maxis\u001b[0m\u001b[1;33m]\u001b[0m\u001b[1;33m)\u001b[0m\u001b[1;33m\u001b[0m\u001b[1;33m\u001b[0m\u001b[0m\n\u001b[0m\u001b[0;32m   1652\u001b[0m         result = take_1d(\n\u001b[0;32m   1653\u001b[0m             \u001b[0marr\u001b[0m\u001b[1;33m,\u001b[0m \u001b[0mindices\u001b[0m\u001b[1;33m,\u001b[0m \u001b[0maxis\u001b[0m\u001b[1;33m=\u001b[0m\u001b[0maxis\u001b[0m\u001b[1;33m,\u001b[0m \u001b[0mallow_fill\u001b[0m\u001b[1;33m=\u001b[0m\u001b[1;32mTrue\u001b[0m\u001b[1;33m,\u001b[0m \u001b[0mfill_value\u001b[0m\u001b[1;33m=\u001b[0m\u001b[0mfill_value\u001b[0m\u001b[1;33m\u001b[0m\u001b[1;33m\u001b[0m\u001b[0m\n",
      "\u001b[1;32mD:\\Anaconda\\lib\\site-packages\\pandas\\core\\indexers.py\u001b[0m in \u001b[0;36mvalidate_indices\u001b[1;34m(indices, n)\u001b[0m\n\u001b[0;32m    209\u001b[0m     \"\"\"\n\u001b[0;32m    210\u001b[0m     \u001b[1;32mif\u001b[0m \u001b[0mlen\u001b[0m\u001b[1;33m(\u001b[0m\u001b[0mindices\u001b[0m\u001b[1;33m)\u001b[0m\u001b[1;33m:\u001b[0m\u001b[1;33m\u001b[0m\u001b[1;33m\u001b[0m\u001b[0m\n\u001b[1;32m--> 211\u001b[1;33m         \u001b[0mmin_idx\u001b[0m \u001b[1;33m=\u001b[0m \u001b[0mindices\u001b[0m\u001b[1;33m.\u001b[0m\u001b[0mmin\u001b[0m\u001b[1;33m(\u001b[0m\u001b[1;33m)\u001b[0m\u001b[1;33m\u001b[0m\u001b[1;33m\u001b[0m\u001b[0m\n\u001b[0m\u001b[0;32m    212\u001b[0m         \u001b[1;32mif\u001b[0m \u001b[0mmin_idx\u001b[0m \u001b[1;33m<\u001b[0m \u001b[1;33m-\u001b[0m\u001b[1;36m1\u001b[0m\u001b[1;33m:\u001b[0m\u001b[1;33m\u001b[0m\u001b[1;33m\u001b[0m\u001b[0m\n\u001b[0;32m    213\u001b[0m             \u001b[0mmsg\u001b[0m \u001b[1;33m=\u001b[0m \u001b[1;34mf\"'indices' contains values less than allowed ({min_idx} < -1)\"\u001b[0m\u001b[1;33m\u001b[0m\u001b[1;33m\u001b[0m\u001b[0m\n",
      "\u001b[1;31mKeyboardInterrupt\u001b[0m: "
     ]
    }
   ],
   "source": [
    "for i in range(t):  \n",
    "    v = np.random.uniform(0, 1) # Random fraction 0 < v < 1\n",
    "    s = np.random.choice([-1,1]) # Random variable either -1 or 1.\n",
    "    \n",
    "    p = random.sample(range(N),2) \n",
    "    \n",
    "    #mk = df.iat[p[i,0],0]\n",
    "    #ml = df.iat[p[i,1],0]\n",
    "    mk = df.iat[p[0],0]\n",
    "    ml = df.iat[p[1],0]\n",
    "    \n",
    "    \n",
    "    # Possible dM's\n",
    "    #dM = v *(mk + ml)/2 # Exchange of random fraction v \n",
    "                       # of the average money of the pair.\n",
    "    # dM = v * M/N # Exchange of random fraction v of the average\n",
    "                   # of the system\n",
    "    if (ml - dM) > 0:\n",
    "        df.at[p[0],'Money'] = mk + dM\n",
    "        df.at[p[1],'Money'] = ml - dM\n",
    "    \n",
    "    df['Class'] = pd.cut(x=df['Money'],bins=scale,labels=labe)\n",
    "    df['Case'] = i+1\n",
    "    #dfFinal = pd.concat([dfFinal,df])\n",
    "    money.append(df['Money'].sum())\n",
    "    entropy.append(calcEntropy(df))\n"
   ]
  },
  {
   "cell_type": "code",
   "execution_count": null,
   "id": "05b38d1f",
   "metadata": {},
   "outputs": [],
   "source": [
    "#scale"
   ]
  },
  {
   "cell_type": "code",
   "execution_count": null,
   "id": "61eebd80",
   "metadata": {},
   "outputs": [],
   "source": [
    "#px.scatter(dfFinal,x=dfFinal.index,y='Money',animation_frame='Case'\n",
    "           #,color='Case')"
   ]
  },
  {
   "cell_type": "markdown",
   "id": "fa1f527a",
   "metadata": {},
   "source": [
    "### Final distribution"
   ]
  },
  {
   "cell_type": "code",
   "execution_count": null,
   "id": "638ef547",
   "metadata": {},
   "outputs": [],
   "source": [
    "df.sample(n=15) # Last iteration"
   ]
  },
  {
   "cell_type": "code",
   "execution_count": null,
   "id": "afb8247c",
   "metadata": {},
   "outputs": [],
   "source": [
    "plt.hist(df['Money'],C)\n",
    "plt.title('Distribution of money \\n',fontweight ='bold')\n",
    "plt.xlabel('Money class')\n",
    "plt.ylabel('Frequency')\n",
    "plt.show()"
   ]
  },
  {
   "cell_type": "code",
   "execution_count": null,
   "id": "a44ba9f9",
   "metadata": {},
   "outputs": [],
   "source": [
    "plt.hist(df['Money'],C,log=True)\n",
    "plt.title('Distribution of money \\n',fontweight = 'bold')\n",
    "plt.xlabel('Money class')\n",
    "plt.ylabel('Frequency')\n",
    "plt.show()"
   ]
  },
  {
   "cell_type": "markdown",
   "id": "fbe4a8bf",
   "metadata": {},
   "source": [
    "### Entropy through time"
   ]
  },
  {
   "cell_type": "code",
   "execution_count": null,
   "id": "a7f551db",
   "metadata": {},
   "outputs": [],
   "source": [
    "plt.plot(entropy)\n",
    "plt.ylabel('Entropy')\n",
    "plt.xlabel('Time {iteration}')\n",
    "plt.show()"
   ]
  },
  {
   "cell_type": "markdown",
   "id": "1f21b23d",
   "metadata": {},
   "source": [
    "### Conservation of Money ***(M)***"
   ]
  },
  {
   "cell_type": "code",
   "execution_count": null,
   "id": "3fcc7a48",
   "metadata": {},
   "outputs": [],
   "source": [
    "plt.plot(money,'bs')\n",
    "plt.title('Money conservation')\n",
    "plt.xlabel('Time {iteration}')\n",
    "plt.ylabel('Total of Money')\n",
    "plt.show()"
   ]
  },
  {
   "cell_type": "markdown",
   "id": "ed7ef64a",
   "metadata": {},
   "source": [
    "## Case : Special Agent\n",
    "Simulating a government effect which takes a fraction $\\lambda_{t}$ of each transaction and redistributes every certain time $\\tau_{s}$"
   ]
  },
  {
   "cell_type": "markdown",
   "id": "98bf248f",
   "metadata": {},
   "source": [
    "We have to run again the first section ***General Parameters*** and ***Initial Distribution***"
   ]
  },
  {
   "cell_type": "code",
   "execution_count": null,
   "id": "7b544bf8",
   "metadata": {},
   "outputs": [],
   "source": [
    "dM = 3 # Parameter provided by Yakobenko. Should be always positive.\n",
    "       # Further considerations will be more complex\n",
    "\n",
    "t = 10000 # Given time to the system evolution\n",
    "\n",
    "tax = 0.84 # According to Mexican's Laws the IVA is around 16% of each transaction\n",
    "\n",
    "timer = 0 # Trigger to the redistribution\n",
    "token = t/100 # Parameter for the redistribution"
   ]
  },
  {
   "cell_type": "code",
   "execution_count": null,
   "id": "83d4532c",
   "metadata": {},
   "outputs": [],
   "source": [
    "for i in range(t):\n",
    "    \n",
    "    if (timer == token):\n",
    "        r = sum(reservoir)/N # Constant r is the average of the total taxes collected.\n",
    "        df['Money'] = df['Money'] + r # Add r to the current money of each agent\n",
    "        reservoir = [0] # Restart the money in the bank\n",
    "        timer = 0\n",
    "    \n",
    "    v = np.random.uniform(0, 1) # Random fraction 0 < v < 1\n",
    "    s = np.random.choice([-1,1]) # Random variable either -1 or 1.\n",
    "    \n",
    "    p = random.sample(range(N),2) \n",
    "    \n",
    "    #mk = df.iat[p[i,0],0]\n",
    "    #ml = df.iat[p[i,1],0]\n",
    "    mk = df.iat[p[0],0]\n",
    "    ml = df.iat[p[1],0]\n",
    "    \n",
    "    \n",
    "    # Possible dM's\n",
    "    #dM = v *(mk + ml)/2 # Exchange of random fraction v \n",
    "                       # of the average money of the pair.\n",
    "    # dM = v * M/N # Exchange of random fraction v of the average\n",
    "                   # of the system\n",
    "    if (ml - dM) > 0:\n",
    "        reservoir.append(dM*0.16)\n",
    "        df.at[p[0],'Money'] = mk + dM*tax # TAX\n",
    "        df.at[p[1],'Money'] = ml - dM\n",
    "    \n",
    "    df['Class'] = pd.cut(x=df['Money'],bins=scale,labels=labe)\n",
    "    df['Case'] = i+1\n",
    "    \n",
    "    #dfFinal = pd.concat([dfFinal,df])\n",
    "    \n",
    "    money.append(df['Money'].sum()+sum(reservoir))\n",
    "    moneyPartial.append(df['Money'].sum())\n",
    "    entropy.append(calcEntropy(df))\n",
    "    \n",
    "    timer += 1 # Update the value of the iteration"
   ]
  },
  {
   "cell_type": "markdown",
   "id": "a304e043",
   "metadata": {},
   "source": [
    "###  Distribution with redistribution"
   ]
  },
  {
   "cell_type": "code",
   "execution_count": null,
   "id": "7417579c",
   "metadata": {},
   "outputs": [],
   "source": [
    "sns.histplot(data=df,x='Money',bins=C)"
   ]
  },
  {
   "cell_type": "code",
   "execution_count": null,
   "id": "29c93782",
   "metadata": {},
   "outputs": [],
   "source": [
    "df.sample(n=15) # Last iteration"
   ]
  },
  {
   "cell_type": "code",
   "execution_count": null,
   "id": "45936c4a",
   "metadata": {},
   "outputs": [],
   "source": [
    "#px.scatter(dfFinal,x=dfFinal.index,y='Money',animation_frame='Case'\n",
    "           #,color='Case')"
   ]
  },
  {
   "cell_type": "markdown",
   "id": "b264a20b",
   "metadata": {},
   "source": [
    "### Entropy through time"
   ]
  },
  {
   "cell_type": "code",
   "execution_count": null,
   "id": "72c52bed",
   "metadata": {},
   "outputs": [],
   "source": [
    "plt.plot(entropy)\n",
    "plt.ylabel('Entropy')\n",
    "plt.xlabel('Time {iteration}')\n",
    "plt.show()"
   ]
  },
  {
   "cell_type": "markdown",
   "id": "8f7e8747",
   "metadata": {},
   "source": [
    "### Final value of entropy"
   ]
  },
  {
   "cell_type": "code",
   "execution_count": null,
   "id": "7294846a",
   "metadata": {},
   "outputs": [],
   "source": [
    "print(f'The final value of the entropy is: {entropy[-1]}')"
   ]
  },
  {
   "cell_type": "markdown",
   "id": "a2333e7f",
   "metadata": {},
   "source": [
    "### Conservation of Money ***(M)***"
   ]
  },
  {
   "cell_type": "code",
   "execution_count": null,
   "id": "9c8347f6",
   "metadata": {},
   "outputs": [],
   "source": [
    "plt.plot(money,'bs')\n",
    "plt.title('Money conservation')\n",
    "plt.xlabel('Time {iteration}')\n",
    "plt.ylabel('Total of Money')\n",
    "plt.show()"
   ]
  },
  {
   "cell_type": "code",
   "execution_count": null,
   "id": "d7e36075",
   "metadata": {},
   "outputs": [],
   "source": [
    "plt.plot(moneyPartial,'bs')\n",
    "plt.title('Money conservation')\n",
    "plt.xlabel('Time {iteration}')\n",
    "plt.ylabel('Total of Money')\n",
    "plt.show()"
   ]
  },
  {
   "cell_type": "markdown",
   "id": "2e636aac",
   "metadata": {},
   "source": [
    "# Stage 2. Simulating the evolution of collective profit"
   ]
  },
  {
   "cell_type": "markdown",
   "id": "352aa657",
   "metadata": {},
   "source": [
    "Be $O$ the **objective function of the system**, which meaures the global performance of the system, it's given by $O(n_{1},n_{2},...,n_{c})=\\sum_{k=1}^{C}n_{k}o_{1}(M_{k})$ where $M_{k}$ is the amount of money of each member of the class $k$ and $n_{k}$ is the number of agents in the same class; $C$ is the number of classes."
   ]
  },
  {
   "cell_type": "code",
   "execution_count": null,
   "id": "38898f8c",
   "metadata": {},
   "outputs": [],
   "source": [
    "def calcEntropy(df):\n",
    "    n = df['Money'].tolist()\n",
    "    c = df['Class'].count()\n",
    "    s1 = c*np.log(c)\n",
    "    s2 = 0\n",
    "    eClas = list(set(df['Class'].tolist())) #Unique values\n",
    "    for e in eClas:\n",
    "        aux = df.loc[df['Class'] == e]\n",
    "        nk = aux['Class'].count()\n",
    "        lnk = np.log(nk)\n",
    "        s2 += nk*lnk\n",
    "    \n",
    "    S = s1 - s2\n",
    "    return S\n",
    "\n",
    "def Ouno(df,a):\n",
    "    # a should be greater than 0 (a > 0)\n",
    "    C = df['Class'].count() # Number of classes.\n",
    "    O = 0 # Performance of the system.\n",
    "    eClas = list(set(df['Class'].tolist())) #Unique values.\n",
    "    for e in eClas:\n",
    "        aux = df.loc[df['Class'] == e] # Get the all the class.\n",
    "        Mk = aux['Money'].mean()# Average money of each agent of the given class.\n",
    "        O = a*Mk # Function O1(M)       "
   ]
  }
 ],
 "metadata": {
  "kernelspec": {
   "display_name": "Python 3",
   "language": "python",
   "name": "python3"
  },
  "language_info": {
   "codemirror_mode": {
    "name": "ipython",
    "version": 3
   },
   "file_extension": ".py",
   "mimetype": "text/x-python",
   "name": "python",
   "nbconvert_exporter": "python",
   "pygments_lexer": "ipython3",
   "version": "3.8.10"
  }
 },
 "nbformat": 4,
 "nbformat_minor": 5
}
